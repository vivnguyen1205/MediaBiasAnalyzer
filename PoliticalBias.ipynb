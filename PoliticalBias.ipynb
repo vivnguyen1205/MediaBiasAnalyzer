{
 "cells": [
  {
   "cell_type": "code",
   "execution_count": 75,
   "id": "fa619304-3cb5-4f52-b5f3-dfa971a9ab5d",
   "metadata": {},
   "outputs": [],
   "source": [
    "#imports \n",
    "from bs4 import BeautifulSoup \n",
    "import requests\n",
    "import os\n",
    "from openai import OpenAI\n",
    "import pandas as pd"
   ]
  },
  {
   "cell_type": "code",
   "execution_count": 84,
   "id": "f33f133b-73b0-4b85-b787-31ecde474036",
   "metadata": {},
   "outputs": [
    {
     "name": "stdin",
     "output_type": "stream",
     "text": [
      "Enter the URL of the news article:  https://www.foxnews.com/politics/trump-very-active-campaign-trail-midterms-chair-predicts\n"
     ]
    },
    {
     "name": "stdout",
     "output_type": "stream",
     "text": [
      "\n",
      "--- Bias Analysis ---\n",
      "The article appears to be right-leaning due to its positive portrayal of Republican Party successes and the anticipated significant role of Trump in the 2026 midterm elections. The information provided does not critique or question Republican efforts, presenting a vision of GOP success and strong confidence in Trump’s influence moving forward. The article is published by Fox News, known for its conservative bias. However, the article does not reach a level of extreme partisanship or include highly emotional language typical of far-right media. My numerical rating is +2, indicating a lean right.\n"
     ]
    }
   ],
   "source": [
    "def analyze_bias(article_text):\n",
    "    # Initializing OpenAI client\n",
    "    client = OpenAI(api_key=\"YOUROPENAIKEYHERE\")\n",
    "    messages = [\n",
    "        {\"role\": \"system\", \"content\": \"You are an expert in media analysis.\"},\n",
    "        {\n",
    "            \"role\": \"user\",\n",
    "            \"content\": f\"\"\"\n",
    "            Analyze the following article for political bias. Determine whether it is right-leaning, left-leaning, or neutral. \n",
    "            Provide reasoning for your conclusion. Give a numerical rating between -6 to +6 with Far Left as -6.00 to -3.00, Lean Left: -2.99 to -1.00, Center as -0.99 to +0.99, Lean Right as +1.00 to +2.99, and Right as +3.00 to +6.00.\n",
    "            Article text:\n",
    "            {article_text}\n",
    "            \"\"\"\n",
    "        }\n",
    "    ]\n",
    "    try:\n",
    "        # Call the API to get the completion\n",
    "        chat_completion = client.chat.completions.create(\n",
    "            messages=messages,\n",
    "            model=\"gpt-4\"\n",
    "        )\n",
    "        # Use attributes to access the content\n",
    "        return chat_completion.choices[0].message.content.strip()\n",
    "    except Exception as e:\n",
    "        return f\"Error: {e}\"\n",
    "if __name__ == \"__main__\":\n",
    "    # Step 1: Scrape the article\n",
    "    url = input(\"Enter the URL of the news article: \")\n",
    "    article_text = scrape_article(url)\n",
    "\n",
    "    if \"Error\" in article_text:\n",
    "        print(article_text)\n",
    "    else:\n",
    "        # Step 2: Analyze political bias\n",
    "        bias_analysis = analyze_bias(article_text)\n",
    "        print(\"\\n--- Bias Analysis ---\")\n",
    "        print(bias_analysis)\n",
    "        "
   ]
  },
  {
   "cell_type": "code",
   "execution_count": null,
   "id": "751820de-7c68-4186-8350-b75865001477",
   "metadata": {},
   "outputs": [],
   "source": []
  }
 ],
 "metadata": {
  "kernelspec": {
   "display_name": "Python 3 (ipykernel)",
   "language": "python",
   "name": "python3"
  },
  "language_info": {
   "codemirror_mode": {
    "name": "ipython",
    "version": 3
   },
   "file_extension": ".py",
   "mimetype": "text/x-python",
   "name": "python",
   "nbconvert_exporter": "python",
   "pygments_lexer": "ipython3",
   "version": "3.12.2"
  }
 },
 "nbformat": 4,
 "nbformat_minor": 5
}
